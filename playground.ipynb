{
 "cells": [
  {
   "cell_type": "code",
   "execution_count": 11,
   "metadata": {},
   "outputs": [],
   "source": [
    "from tree_manager import Tree, TreeNode, TreeEdge, init_db, SessionLocal\n",
    "init_db()\n",
    "session = SessionLocal()"
   ]
  },
  {
   "cell_type": "code",
   "execution_count": 12,
   "metadata": {},
   "outputs": [],
   "source": [
    "tree = Tree.get(session, id=1)\n",
    "new_tag = tree.create_tag(session, \"release-v1.0\", description=\"Initial stable release\")"
   ]
  },
  {
   "cell_type": "code",
   "execution_count": 13,
   "metadata": {},
   "outputs": [
    {
     "data": {
      "text/plain": [
       "<tree_manager.models.TreeTag at 0x7f8e6165c400>"
      ]
     },
     "execution_count": 13,
     "metadata": {},
     "output_type": "execute_result"
    }
   ],
   "source": [
    "modified_tree = tree.create_new_tree_version_from_tag(session, \"release-v1.0\")\n",
    "new_node = modified_tree.add_node(session, data={\"setting\": \"new_value\"})\n",
    "modified_tree.create_tag(session, \"release-v1.1\", description=\"Added new setting\")"
   ]
  },
  {
   "cell_type": "code",
   "execution_count": 14,
   "metadata": {},
   "outputs": [],
   "source": [
    "\n",
    "# Adding an edge between nodes\n",
    "modified_tree.add_edge(session, incoming_node_id=1, outgoing_node_id=2, data={\"weight\": 0.5})\n",
    "\n",
    "# Retrieving historical configuration\n",
    "old_config = tree.get_by_tag(session, \"release-v1.0\")"
   ]
  },
  {
   "cell_type": "code",
   "execution_count": 15,
   "metadata": {},
   "outputs": [],
   "source": [
    "main_tree = tree.get_by_tag(session, \"release-v1.0\")\n",
    "feature_branch = main_tree.create_new_tree_version_from_tag(session, \"release-v1.0\")"
   ]
  },
  {
   "cell_type": "code",
   "execution_count": 16,
   "metadata": {},
   "outputs": [
    {
     "data": {
      "text/plain": [
       "<tree_manager.models.TreeTag at 0x7f8e616bdeb0>"
      ]
     },
     "execution_count": 16,
     "metadata": {},
     "output_type": "execute_result"
    }
   ],
   "source": [
    "node1 = feature_branch.add_node(session, data={\"feature_flag\": True})\n",
    "node2 = feature_branch.add_node(session, data={\"config\": \"new_setting\"})\n",
    "feature_branch.add_edge(session, incoming_node_id=node1.id, outgoing_node_id=node2.id, data={\"relation\": \"depends_on\"})\n",
    "feature_branch.create_tag(session, \"feature-x-v1\", description=\"Feature X implementation\")"
   ]
  },
  {
   "cell_type": "code",
   "execution_count": 17,
   "metadata": {},
   "outputs": [
    {
     "data": {
      "text/plain": [
       "<tree_manager.models.TreeEdge at 0x7f8e386e0130>"
      ]
     },
     "execution_count": 17,
     "metadata": {},
     "output_type": "execute_result"
    }
   ],
   "source": [
    "stable_tree = Tree.get(session, id=1)\n",
    "stable_tag = stable_tree.create_tag(session,\"stable-v1\")\n",
    "new_node = stable_tree.add_node(session, data={\"experimental\": True})\n",
    "stable_tree.add_edge(session, incoming_node_id=1, outgoing_node_id=new_node.id, data={\"type\": \"experimental\"})\n"
   ]
  },
  {
   "cell_type": "code",
   "execution_count": 18,
   "metadata": {},
   "outputs": [],
   "source": [
    "rollback_tree = stable_tree.restore_from_tag(session, \"stable-v1\")\n"
   ]
  },
  {
   "cell_type": "code",
   "execution_count": 19,
   "metadata": {},
   "outputs": [
    {
     "data": {
      "text/plain": [
       "[<tree_manager.models.TreeNode at 0x7f8e703b90a0>,\n",
       " <tree_manager.models.TreeNode at 0x7f8e616cc520>,\n",
       " <tree_manager.models.TreeNode at 0x7f8e616ccaf0>,\n",
       " <tree_manager.models.TreeNode at 0x7f8e616bd5b0>,\n",
       " <tree_manager.models.TreeNode at 0x7f8e616d0cd0>,\n",
       " <tree_manager.models.TreeNode at 0x7f8e616d0c70>]"
      ]
     },
     "execution_count": 19,
     "metadata": {},
     "output_type": "execute_result"
    }
   ],
   "source": [
    "rollback_tree.nodes"
   ]
  },
  {
   "cell_type": "code",
   "execution_count": 20,
   "metadata": {},
   "outputs": [
    {
     "data": {
      "text/plain": [
       "[<tree_manager.models.TreeNode at 0x7f8e386de820>,\n",
       " <tree_manager.models.TreeNode at 0x7f8e703d40d0>,\n",
       " <tree_manager.models.TreeNode at 0x7f8e616d2100>,\n",
       " <tree_manager.models.TreeNode at 0x7f8e616d20a0>,\n",
       " <tree_manager.models.TreeNode at 0x7f8e616d2160>,\n",
       " <tree_manager.models.TreeNode at 0x7f8e616d21c0>,\n",
       " <tree_manager.models.TreeNode at 0x7f8e61699370>]"
      ]
     },
     "execution_count": 20,
     "metadata": {},
     "output_type": "execute_result"
    }
   ],
   "source": [
    "stable_tree.nodes"
   ]
  },
  {
   "cell_type": "code",
   "execution_count": 23,
   "metadata": {},
   "outputs": [],
   "source": [
    "historical_tree = tree.get_by_tag(session, \"release-v1.0\")\n"
   ]
  },
  {
   "cell_type": "code",
   "execution_count": 26,
   "metadata": {},
   "outputs": [],
   "source": [
    "root_node = historical_tree.get_root_nodes(session)\n"
   ]
  },
  {
   "cell_type": "code",
   "execution_count": 29,
   "metadata": {},
   "outputs": [],
   "source": [
    "node = historical_tree.get_node(session, node_id=1)\n",
    "children = historical_tree.get_child_nodes(session, node_id=1)\n",
    "parents = historical_tree.get_parent_nodes(session, node_id=1)"
   ]
  },
  {
   "cell_type": "code",
   "execution_count": 30,
   "metadata": {},
   "outputs": [
    {
     "name": "stdout",
     "output_type": "stream",
     "text": [
      "Edge 1 metadata: {'relation': 'child'}\n",
      "Connected to node: 2\n",
      "Edge 2 metadata: {'relation': 'child'}\n",
      "Connected to node: 3\n",
      "Edge 5 metadata: {'relation': 'child'}\n",
      "Connected to node: 6\n",
      "Edge 17 metadata: {'weight': 0.5}\n",
      "Connected to node: 2\n",
      "Edge 25 metadata: {'type': 'experimental'}\n",
      "Connected to node: 29\n"
     ]
    }
   ],
   "source": [
    "edges = historical_tree.get_node_edges(session, node_id=1)\n",
    "for edge in edges:\n",
    "    print(f\"Edge {edge.id} metadata: {edge.data}\")\n",
    "    print(f\"Connected to node: {edge.outgoing_node_id}\")"
   ]
  },
  {
   "cell_type": "code",
   "execution_count": 35,
   "metadata": {},
   "outputs": [],
   "source": [
    "level_2_nodes = historical_tree.get_nodes_at_depth(session,2)\n"
   ]
  },
  {
   "cell_type": "code",
   "execution_count": 37,
   "metadata": {},
   "outputs": [
    {
     "name": "stdout",
     "output_type": "stream",
     "text": [
      "Node: {'name': 'Root Node', 'setting': 'default'}\n",
      "Connected by edge: {'relation': 'child'}\n",
      "Node: {'name': 'Child Node 1', 'setting': 'custom'}\n",
      "Connected by edge: {'relation': 'grandchild'}\n",
      "Node: {'name': 'Grandchild Node 2', 'setting': 'experimental'}\n",
      "Connected by edge: None\n"
     ]
    }
   ],
   "source": [
    "path = historical_tree.find_path(session, start_node_id=1, end_node_id=5)\n",
    "for node, edge in path:\n",
    "    print(f\"Node: {node.data}\")\n",
    "    print(f\"Connected by edge: {edge.data if edge else 'None'}\")"
   ]
  },
  {
   "cell_type": "code",
   "execution_count": null,
   "metadata": {},
   "outputs": [],
   "source": []
  },
  {
   "cell_type": "code",
   "execution_count": null,
   "metadata": {},
   "outputs": [],
   "source": []
  },
  {
   "cell_type": "code",
   "execution_count": null,
   "metadata": {},
   "outputs": [],
   "source": []
  },
  {
   "cell_type": "code",
   "execution_count": null,
   "metadata": {},
   "outputs": [],
   "source": []
  },
  {
   "cell_type": "code",
   "execution_count": null,
   "metadata": {},
   "outputs": [],
   "source": []
  },
  {
   "cell_type": "code",
   "execution_count": null,
   "metadata": {},
   "outputs": [],
   "source": []
  },
  {
   "cell_type": "code",
   "execution_count": null,
   "metadata": {},
   "outputs": [],
   "source": []
  }
 ],
 "metadata": {
  "kernelspec": {
   "display_name": "Python 3",
   "language": "python",
   "name": "python3"
  },
  "language_info": {
   "codemirror_mode": {
    "name": "ipython",
    "version": 3
   },
   "file_extension": ".py",
   "mimetype": "text/x-python",
   "name": "python",
   "nbconvert_exporter": "python",
   "pygments_lexer": "ipython3",
   "version": "3.9.18"
  }
 },
 "nbformat": 4,
 "nbformat_minor": 2
}
