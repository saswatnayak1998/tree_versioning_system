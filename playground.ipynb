{
 "cells": [
  {
   "cell_type": "code",
   "execution_count": 1,
   "metadata": {},
   "outputs": [],
   "source": [
    "from tree_manager import Tree, TreeNode, TreeEdge, init_db, SessionLocal\n",
    "init_db()\n",
    "session = SessionLocal()"
   ]
  },
  {
   "cell_type": "code",
   "execution_count": 2,
   "metadata": {},
   "outputs": [],
   "source": [
    "tree = Tree.get(session, id=1)\n",
    "new_tag = tree.create_tag(session, \"release-v1.0\", description=\"Initial stable release\")"
   ]
  },
  {
   "cell_type": "code",
   "execution_count": 3,
   "metadata": {},
   "outputs": [
    {
     "data": {
      "text/plain": [
       "<tree_manager.models.TreeTag at 0x7f8eb8283c40>"
      ]
     },
     "execution_count": 3,
     "metadata": {},
     "output_type": "execute_result"
    }
   ],
   "source": [
    "modified_tree = tree.create_new_tree_version_from_tag(session, \"release-v1.0\")\n",
    "new_node = modified_tree.add_node(session, data={\"setting\": \"new_value\"})\n",
    "modified_tree.create_tag(session, \"release-v1.1\", description=\"Added new setting\")"
   ]
  },
  {
   "cell_type": "code",
   "execution_count": 4,
   "metadata": {},
   "outputs": [],
   "source": [
    "\n",
    "# Adding an edge between nodes\n",
    "modified_tree.add_edge(session, incoming_node_id=1, outgoing_node_id=2, data={\"weight\": 0.5})\n",
    "\n",
    "# Retrieving historical configuration\n",
    "old_config = tree.get_by_tag(session, \"release-v1.0\")"
   ]
  },
  {
   "cell_type": "code",
   "execution_count": 11,
   "metadata": {},
   "outputs": [],
   "source": [
    "main_tree = tree.get_by_tag(session, \"release-v1.0\")\n",
    "feature_branch = main_tree.create_new_tree_version_from_tag(session, \"release-v1.0\")"
   ]
  },
  {
   "cell_type": "code",
   "execution_count": 12,
   "metadata": {},
   "outputs": [
    {
     "ename": "TypeError",
     "evalue": "add_edge() got an unexpected keyword argument 'node_id_1'",
     "output_type": "error",
     "traceback": [
      "\u001b[0;31m---------------------------------------------------------------------------\u001b[0m",
      "\u001b[0;31mTypeError\u001b[0m                                 Traceback (most recent call last)",
      "Cell \u001b[0;32mIn[12], line 3\u001b[0m\n\u001b[1;32m      1\u001b[0m node1 \u001b[38;5;241m=\u001b[39m feature_branch\u001b[38;5;241m.\u001b[39madd_node(session, data\u001b[38;5;241m=\u001b[39m{\u001b[38;5;124m\"\u001b[39m\u001b[38;5;124mfeature_flag\u001b[39m\u001b[38;5;124m\"\u001b[39m: \u001b[38;5;28;01mTrue\u001b[39;00m})\n\u001b[1;32m      2\u001b[0m node2 \u001b[38;5;241m=\u001b[39m feature_branch\u001b[38;5;241m.\u001b[39madd_node(session, data\u001b[38;5;241m=\u001b[39m{\u001b[38;5;124m\"\u001b[39m\u001b[38;5;124mconfig\u001b[39m\u001b[38;5;124m\"\u001b[39m: \u001b[38;5;124m\"\u001b[39m\u001b[38;5;124mnew_setting\u001b[39m\u001b[38;5;124m\"\u001b[39m})\n\u001b[0;32m----> 3\u001b[0m \u001b[43mfeature_branch\u001b[49m\u001b[38;5;241;43m.\u001b[39;49m\u001b[43madd_edge\u001b[49m\u001b[43m(\u001b[49m\u001b[43msession\u001b[49m\u001b[43m,\u001b[49m\u001b[43m \u001b[49m\u001b[43mnode_id_1\u001b[49m\u001b[38;5;241;43m=\u001b[39;49m\u001b[43mnode1\u001b[49m\u001b[38;5;241;43m.\u001b[39;49m\u001b[43mid\u001b[49m\u001b[43m,\u001b[49m\u001b[43m \u001b[49m\u001b[43mnode_id_2\u001b[49m\u001b[38;5;241;43m=\u001b[39;49m\u001b[43mnode2\u001b[49m\u001b[38;5;241;43m.\u001b[39;49m\u001b[43mid\u001b[49m\u001b[43m,\u001b[49m\u001b[43m \u001b[49m\u001b[43mdata\u001b[49m\u001b[38;5;241;43m=\u001b[39;49m\u001b[43m{\u001b[49m\u001b[38;5;124;43m\"\u001b[39;49m\u001b[38;5;124;43mrelation\u001b[39;49m\u001b[38;5;124;43m\"\u001b[39;49m\u001b[43m:\u001b[49m\u001b[43m \u001b[49m\u001b[38;5;124;43m\"\u001b[39;49m\u001b[38;5;124;43mdepends_on\u001b[39;49m\u001b[38;5;124;43m\"\u001b[39;49m\u001b[43m}\u001b[49m\u001b[43m)\u001b[49m\n\u001b[1;32m      4\u001b[0m feature_branch\u001b[38;5;241m.\u001b[39mcreate_tag(session, \u001b[38;5;124m\"\u001b[39m\u001b[38;5;124mfeature-x-v1\u001b[39m\u001b[38;5;124m\"\u001b[39m, description\u001b[38;5;241m=\u001b[39m\u001b[38;5;124m\"\u001b[39m\u001b[38;5;124mFeature X implementation\u001b[39m\u001b[38;5;124m\"\u001b[39m)\n",
      "\u001b[0;31mTypeError\u001b[0m: add_edge() got an unexpected keyword argument 'node_id_1'"
     ]
    }
   ],
   "source": [
    "node1 = feature_branch.add_node(session, data={\"feature_flag\": True})\n",
    "node2 = feature_branch.add_node(session, data={\"config\": \"new_setting\"})\n",
    "feature_branch.add_edge(session, incoming_node_id=node1.id, outgoing_node_id==node2.id, data={\"relation\": \"depends_on\"})\n",
    "feature_branch.create_tag(session, \"feature-x-v1\", description=\"Feature X implementation\")"
   ]
  },
  {
   "cell_type": "code",
   "execution_count": null,
   "metadata": {},
   "outputs": [],
   "source": []
  },
  {
   "cell_type": "code",
   "execution_count": null,
   "metadata": {},
   "outputs": [],
   "source": []
  },
  {
   "cell_type": "code",
   "execution_count": null,
   "metadata": {},
   "outputs": [],
   "source": []
  },
  {
   "cell_type": "code",
   "execution_count": null,
   "metadata": {},
   "outputs": [],
   "source": []
  },
  {
   "cell_type": "code",
   "execution_count": null,
   "metadata": {},
   "outputs": [],
   "source": []
  }
 ],
 "metadata": {
  "kernelspec": {
   "display_name": "Python 3",
   "language": "python",
   "name": "python3"
  },
  "language_info": {
   "codemirror_mode": {
    "name": "ipython",
    "version": 3
   },
   "file_extension": ".py",
   "mimetype": "text/x-python",
   "name": "python",
   "nbconvert_exporter": "python",
   "pygments_lexer": "ipython3",
   "version": "3.9.18"
  }
 },
 "nbformat": 4,
 "nbformat_minor": 2
}
